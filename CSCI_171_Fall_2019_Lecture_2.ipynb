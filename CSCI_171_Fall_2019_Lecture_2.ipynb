{
  "nbformat": 4,
  "nbformat_minor": 0,
  "metadata": {
    "celltoolbar": "Slideshow",
    "kernelspec": {
      "display_name": "Python 3",
      "language": "python",
      "name": "python3"
    },
    "language_info": {
      "codemirror_mode": {
        "name": "ipython",
        "version": 3
      },
      "file_extension": ".py",
      "mimetype": "text/x-python",
      "name": "python",
      "nbconvert_exporter": "python",
      "pygments_lexer": "ipython3",
      "version": "3.6.4rc1"
    },
    "colab": {
      "name": "CSCI 171  Fall 2019  Lecture 2.ipynb",
      "provenance": [],
      "collapsed_sections": [],
      "include_colab_link": true
    }
  },
  "cells": [
    {
      "cell_type": "markdown",
      "metadata": {
        "id": "view-in-github",
        "colab_type": "text"
      },
      "source": [
        "<a href=\"https://colab.research.google.com/github/ChongHunYu/CSCI-171-LECT2-CSV-FILE/blob/master/CSCI_171_Fall_2019_Lecture_2.ipynb\" target=\"_parent\"><img src=\"https://colab.research.google.com/assets/colab-badge.svg\" alt=\"Open In Colab\"/></a>"
      ]
    },
    {
      "cell_type": "markdown",
      "metadata": {
        "id": "5cOT350GjWM7",
        "colab_type": "text"
      },
      "source": [
        "# CSCI 171\n",
        "\n",
        "## List "
      ]
    },
    {
      "cell_type": "markdown",
      "metadata": {
        "id": "Aphy7B5vjWM_",
        "colab_type": "text"
      },
      "source": [
        "\n",
        "# Lists\n",
        "\n",
        "- Group variables together\n",
        "- Specific order\n",
        "- Access items using square brackets:[]\n"
      ]
    },
    {
      "cell_type": "markdown",
      "metadata": {
        "id": "UNX20thpjWND",
        "colab_type": "text"
      },
      "source": [
        "# Accessing Elements, positive indexing, negative indexing\n",
        "\n",
        "- First item: [0]    (Note: List first index starts from 0 in python, this is called positive indexing)\n",
        "\n",
        "- Last item: [-1]    (Note: List index from last starts from -1 in python, this is called negative indexing)"
      ]
    },
    {
      "cell_type": "code",
      "metadata": {
        "id": "-XmnA97ijWNG",
        "colab_type": "code",
        "outputId": "91037842-b36a-4d53-c935-f951d2aa41c3",
        "colab": {}
      },
      "source": [
        "myList = [4, 21.2, 'hi'] #List can hold different datatypes like int, float, string together\n",
        "\n",
        "print(myList)\n",
        "print(myList[0]) # Accessing First item in myList\n",
        "print(myList[1]) # Accessing Second item in myList\n",
        "print(myList[2]) # Accessing Third item in myList\n",
        "print(myList[-1]) # Accessing Last item in myList\n",
        "print(myList[-2]) # Accessing Second Last item in myList\n",
        "print(myList[-3]) # Accessing Third Last item in myList"
      ],
      "execution_count": 0,
      "outputs": [
        {
          "output_type": "stream",
          "text": [
            "[4, 21.2, 'hi']\n",
            "4\n",
            "21.2\n",
            "hi\n",
            "hi\n",
            "21.2\n",
            "4\n"
          ],
          "name": "stdout"
        }
      ]
    },
    {
      "cell_type": "markdown",
      "metadata": {
        "id": "OSOzHZfgjWNP",
        "colab_type": "text"
      },
      "source": [
        "# Work on it now (in the box below)\n",
        "\n",
        "- Using the concept of list, write a list that contains Four seasons and the average temperature in each season measured in NYC. For example: Winter, 28, Summer, 100 and so on\n",
        "\n",
        "- Print all the values"
      ]
    },
    {
      "cell_type": "code",
      "metadata": {
        "id": "sueUxbvhjWNf",
        "colab_type": "code",
        "outputId": "56f53567-c4a3-4f1f-fa4f-cf7719701286",
        "colab": {
          "base_uri": "https://localhost:8080/",
          "height": 170
        }
      },
      "source": [
        "i =0\n",
        "listFourSeason = [\"Spring\",62, \"Summer\", 82, \"Fall\", 65, \"Winter\", 42]\n",
        "\n",
        "print(\"The four seaons and the average HIGH temperature for each season in NYC below : \")\n",
        "\n",
        "while(i < len(listFourSeason) ):\n",
        "  print(listFourSeason[i])\n",
        "  i+=1"
      ],
      "execution_count": 0,
      "outputs": [
        {
          "output_type": "stream",
          "text": [
            "The four seaons and the average HIGH temperature for each season in NYC below : \n",
            "Spring\n",
            "62\n",
            "Summer\n",
            "82\n",
            "Fall\n",
            "65\n",
            "Winter\n",
            "42\n"
          ],
          "name": "stdout"
        }
      ]
    },
    {
      "cell_type": "code",
      "metadata": {
        "id": "wMGz9w-qjWNm",
        "colab_type": "code",
        "outputId": "86d96fc5-e296-486e-f2b1-e95a063e4d42",
        "colab": {}
      },
      "source": [
        "a=[1,2,3]\n",
        "b=[4,5,6]\n",
        "c=a+b # This will concatenate two lists into one, but will not add the lists element by element!\n",
        "print(c) \n"
      ],
      "execution_count": 0,
      "outputs": [
        {
          "output_type": "stream",
          "text": [
            "[1, 2, 3, 4, 5, 6]\n"
          ],
          "name": "stdout"
        }
      ]
    },
    {
      "cell_type": "code",
      "metadata": {
        "id": "fUnrp1G8jWNw",
        "colab_type": "code",
        "outputId": "28dc6bbe-a6ff-4246-cdfb-a90464b533ca",
        "colab": {}
      },
      "source": [
        "#Element by element operation\n",
        "c0=a[0]+b[0]\n",
        "c1=a[1]+b[1]\n",
        "c2=a[2]+b[2]\n",
        "print([c0,c1,c2])\n"
      ],
      "execution_count": 0,
      "outputs": [
        {
          "output_type": "stream",
          "text": [
            "[5, 7, 9]\n"
          ],
          "name": "stdout"
        }
      ]
    },
    {
      "cell_type": "markdown",
      "metadata": {
        "id": "-QEgbPAujWN3",
        "colab_type": "text"
      },
      "source": [
        "## Let's say we have the following table\n",
        "![image.png](attachment:image.png)\n",
        "\n",
        "Each value in the table is a data point. A collection of data points make up a data set. For instance, the first row has five data points:\n",
        "\n",
        "-  Facebook\n",
        "-  0.0\n",
        "-  USD\n",
        "-  2974676\n",
        "-  3.5\n"
      ]
    },
    {
      "cell_type": "markdown",
      "metadata": {
        "id": "I_ZYZCfKjWN5",
        "colab_type": "text"
      },
      "source": [
        "# Work on it now using positive indexing\n",
        "\n",
        "In the next cell, you can already see the lists for the first three rows.\n",
        "\n",
        "The fourth element in each list describes the number of ratings an app has received. Retrieve this fourth element from each list, and then find the average value of the retrieved numbers.\n",
        "\n",
        "-  Assign the fourth element from the list row_1 to a variable named ratings_1. Don't forget that the indexing starts at 0.\n",
        "-  Assign the fourth element from the list row_2 to a variable named ratings_2.\n",
        "-  Assign the fourth element from the list row_3 to a variable named ratings_3.\n",
        "-  Add the three numbers retrieved together and save the sum to a variable named total.\n",
        "-  Divide the sum (now saved in the variable total) by 3 to get the average number of ratings for the first three rows. Assign the result to a variable named average.\n",
        "\n"
      ]
    },
    {
      "cell_type": "code",
      "metadata": {
        "id": "CTmf8NWUjWN7",
        "colab_type": "code",
        "outputId": "69a0b404-5ad5-4076-b960-ed38343b8b00",
        "colab": {
          "base_uri": "https://localhost:8080/",
          "height": 51
        }
      },
      "source": [
        "row_1 = ['Facebook', 0.0, 'USD', 2974676, 3.5]\n",
        "row_2 = ['Instagram', 0.0, 'USD', 2161558, 4.5]\n",
        "row_3 = ['Clash of Clans', 0.0, 'USD', 2130805, 4.5]\n",
        "\n",
        "# Write your code here and execute it\n",
        "\n",
        "\n",
        "rating_1 = row_1[4]\n",
        "\n",
        "rating_2 = row_2[4]\n",
        "\n",
        "rating_3 = row_3[4]\n",
        "\n",
        "total = rating_1+rating_2+rating_3\n",
        "\n",
        "average = round(total/3)\n",
        "\n",
        "print(total)\n",
        "\n",
        "print(average)\n",
        "\n",
        "\n",
        "\n",
        "\n"
      ],
      "execution_count": 0,
      "outputs": [
        {
          "output_type": "stream",
          "text": [
            "12.5\n",
            "4\n"
          ],
          "name": "stdout"
        }
      ]
    },
    {
      "cell_type": "markdown",
      "metadata": {
        "id": "unXaLpo-jWOF",
        "colab_type": "text"
      },
      "source": [
        "# Work on it now using negative indexing\n",
        "\n",
        "The last element in each list shows the average rating of each application.\n",
        "\n",
        "Retrieve the ratings for the first three rows, and then find the average value of all the ratings retrieved.\n",
        "\n",
        "-  Assign the last element from the list row_1 to a variable named rating_1. Try to take advantage of negative indexing.\n",
        "-  Assign the last element from the list row_2 to a variable named rating_2.\n",
        "-  Assign the last element from the list row_3 to a variable named rating_3.\n",
        "-  Add the three ratings together and save the sum to a variable named total_rating.\n",
        "-  Divide the total by 3 to get the average rating. Assign the result to a variable named average_rating."
      ]
    },
    {
      "cell_type": "code",
      "metadata": {
        "id": "OOnOjZiojWOH",
        "colab_type": "code",
        "outputId": "04fd8d82-453e-4f27-e24b-dbf468a0151f",
        "colab": {
          "base_uri": "https://localhost:8080/",
          "height": 51
        }
      },
      "source": [
        "row_1 = ['Facebook', 0.0, 'USD', 2974676, 3.5]\n",
        "row_2 = ['Instagram', 0.0, 'USD', 2161558, 4.5]\n",
        "row_3 = ['Clash of Clans', 0.0, 'USD', 2130805, 4.5]\n",
        "\n",
        "# Write your code here and execute it\n",
        "\n",
        "\n",
        "total_rating = row_1[-1]+row_2[-1]+row_3[-1]\n",
        "avg_rating = (total_rating/3)\n",
        "\n",
        "print (\"    Rating count total: \"     + str(total_rating) )\n",
        "print (\"Avg Rating count total: \" +str(round(avg_rating)) )\n"
      ],
      "execution_count": 0,
      "outputs": [
        {
          "output_type": "stream",
          "text": [
            "    Rating count total: 12.5\n",
            "Avg Rating count total: 4\n"
          ],
          "name": "stdout"
        }
      ]
    },
    {
      "cell_type": "code",
      "metadata": {
        "id": "UoiXW-BejWOg",
        "colab_type": "code",
        "outputId": "0e2673eb-2c87-4549-ad0a-de1d59facc77",
        "colab": {}
      },
      "source": [
        "#Oftentimes, we need to retrieve more than one element from a list. \n",
        "#Let's say we have the list ['Facebook', 0.0, 'USD', 2974676, 3.5], and \n",
        "#we're interested in isolating only the name of the app and the data about ratings (the number of ratings and the rating). \n",
        "#This is how we can do that:\n",
        "\n",
        "row_1 = ['Facebook', 0.0, 'USD', 2974676, 3.5]\n",
        "Fb_rating_data=[row_1[0],row_1[-2],row_1[-1]]\n",
        "Fb_rating_data"
      ],
      "execution_count": 0,
      "outputs": [
        {
          "output_type": "execute_result",
          "data": {
            "text/plain": [
              "['Facebook', 2974676, 3.5]"
            ]
          },
          "metadata": {
            "tags": []
          },
          "execution_count": 13
        }
      ]
    },
    {
      "cell_type": "markdown",
      "metadata": {
        "id": "KxacI4s7jWOm",
        "colab_type": "text"
      },
      "source": [
        "- List can be sliced\n",
        "\n",
        "- List can be multiplied\n",
        "\n",
        "- List can be added"
      ]
    },
    {
      "cell_type": "code",
      "metadata": {
        "id": "IueUu_w8jWOp",
        "colab_type": "code",
        "outputId": "abbb6022-1862-4dac-9c8e-78c3990d8d34",
        "colab": {}
      },
      "source": [
        "myList = [4, 21.2, 'hello']\n",
        "\n",
        "myList[0:2] # this will print the content of the list from 0 to n-1, here n=2(note the last one does not print!)\n",
        "#Change the above line so that the last one also prints"
      ],
      "execution_count": 0,
      "outputs": [
        {
          "output_type": "execute_result",
          "data": {
            "text/plain": [
              "[4, 21.2]"
            ]
          },
          "metadata": {
            "tags": []
          },
          "execution_count": 16
        }
      ]
    },
    {
      "cell_type": "markdown",
      "metadata": {
        "id": "q_EWH8WwjWO4",
        "colab_type": "text"
      },
      "source": [
        "![image.png](attachment:image.png)"
      ]
    },
    {
      "cell_type": "code",
      "metadata": {
        "id": "Ae3Y5zWHjWO7",
        "colab_type": "code",
        "outputId": "7b5d6bc3-32a9-4a45-9844-5aa6f4f1060b",
        "colab": {}
      },
      "source": [
        "row_3 = ['Clash of Clans', 0.0, 'USD', 2130805, 4.5]\n",
        "print(row_3[0:3]) #Slice1\n",
        "print(row_3[3:5]) #Slice2 (from the forward side) \n",
        "print(row_3[-2:]) #Slice2 (from the reverse side) \n",
        "print(row_3[1:4]) #Slice3\n",
        "\n",
        "#Note:\n",
        "#a_list[:x] when we want to select the first x elements.\n",
        "#a_list[-x:] when we want to select the last x elements.\n"
      ],
      "execution_count": 0,
      "outputs": [
        {
          "output_type": "stream",
          "text": [
            "['Clash of Clans', 0.0, 'USD']\n",
            "[2130805, 4.5]\n",
            "[2130805, 4.5]\n",
            "[0.0, 'USD', 2130805]\n"
          ],
          "name": "stdout"
        }
      ]
    },
    {
      "cell_type": "markdown",
      "metadata": {
        "id": "MFQ9LBjujWPE",
        "colab_type": "text"
      },
      "source": [
        "# Work on it now\n",
        "\n",
        "In the next cell, you can already see the lists for the 5 rows.\n",
        "\n",
        "-  Select the first four elements from row_1 using a list slicing syntax shortcut. Assign the output to a variable named first_4_fb.\n",
        "-  Select the last three elements from row_1 using a list slicing syntax shortcut. Assign the output to a variable named last_3_fb.\n",
        "-  From row_5, select the list slice ['USD', 1126879] using a list slicing syntax shortcut. Assign the output to a variable named pandora_3_4."
      ]
    },
    {
      "cell_type": "code",
      "metadata": {
        "id": "aJ3BVSj-jWPG",
        "colab_type": "code",
        "outputId": "f89065f2-45d9-4215-856a-a6113bd74417",
        "colab": {
          "base_uri": "https://localhost:8080/",
          "height": 68
        }
      },
      "source": [
        "row_1 = ['Facebook', 0.0, 'USD', 2974676, 3.5]\n",
        "row_2 = ['Instagram', 0.0, 'USD', 2161558, 4.5]\n",
        "row_3 = ['Clash of Clans', 0.0, 'USD', 2130805, 4.5]\n",
        "row_4 = ['Temple Run', 0.0, 'USD', 1724546, 4.5]\n",
        "row_5 = ['Pandora - Music & Radio', 0.0, 'USD', 1126879, 4.0]\n",
        "\n",
        "# Write your code here and execute it\n",
        "\n",
        "first_4_fb  = row_1[0:4]\n",
        "print(first_4_fb)\n",
        "\n",
        "\n",
        "\n",
        "last_3_fb   = row_1[-3:]\n",
        "print(last_3_fb)\n",
        "\n",
        "\n",
        "pandora_3_4 = row_5[-3:-1]\n",
        "print(pandora_3_4)"
      ],
      "execution_count": 0,
      "outputs": [
        {
          "output_type": "stream",
          "text": [
            "['Facebook', 0.0, 'USD', 2974676]\n",
            "['USD', 2974676, 3.5]\n",
            "['USD', 1126879]\n"
          ],
          "name": "stdout"
        }
      ]
    },
    {
      "cell_type": "markdown",
      "metadata": {
        "id": "B7SZ6EF_jWPO",
        "colab_type": "text"
      },
      "source": [
        "# List Methods\n",
        "-  append\n",
        "-  extend\n",
        "-  sort"
      ]
    },
    {
      "cell_type": "code",
      "metadata": {
        "id": "WxI88gCBjWPX",
        "colab_type": "code",
        "outputId": "af619bd6-4ade-4cb3-8f38-b88d8654bd83",
        "colab": {}
      },
      "source": [
        "#append adds a new element to the end of a list\n",
        "\n",
        "x=['a', 'b', 'c']\n",
        "\n",
        "x.append('d')\n",
        "\n",
        "print(x)"
      ],
      "execution_count": 0,
      "outputs": [
        {
          "output_type": "stream",
          "text": [
            "['a', 'b', 'c', 'd']\n"
          ],
          "name": "stdout"
        }
      ]
    },
    {
      "cell_type": "code",
      "metadata": {
        "id": "gRZKcmrGjWPn",
        "colab_type": "code",
        "outputId": "eaca3bf6-f851-4395-d895-56d45d0828fe",
        "colab": {}
      },
      "source": [
        "#extend takes a list of arguments and appends all of the elements\n",
        "x1=['a', 'b', 'c']\n",
        "x2=['d','e']\n",
        "x1.extend(x2)\n",
        "print(x1)\n"
      ],
      "execution_count": 0,
      "outputs": [
        {
          "output_type": "stream",
          "text": [
            "['a', 'b', 'c', 'd', 'e']\n"
          ],
          "name": "stdout"
        }
      ]
    },
    {
      "cell_type": "code",
      "metadata": {
        "id": "PRcrG5hyjWPu",
        "colab_type": "code",
        "outputId": "5eb2103b-0cc0-4ba4-c941-54da5cada9f3",
        "colab": {}
      },
      "source": [
        "#sort arranges the elemets of the list from low to high\n",
        "\n",
        "x=['e', 'a', 'c', 'b', 'd']\n",
        "x.sort()\n",
        "print(x)"
      ],
      "execution_count": 0,
      "outputs": [
        {
          "output_type": "stream",
          "text": [
            "['a', 'b', 'c', 'd', 'e']\n"
          ],
          "name": "stdout"
        }
      ]
    },
    {
      "cell_type": "markdown",
      "metadata": {
        "id": "kAG9sYVRjWP4",
        "colab_type": "text"
      },
      "source": [
        "# Work on it now (In the box below)\n",
        "\n",
        "x=[1,2,3] y=[4,5] z=[4,2,3,1]\n",
        "\n",
        "-  Using append add 4 to list x\n",
        "-  Using extend append list y to list x\n",
        "-  Using sort arrange the elements of list z\n",
        "\n",
        "Can we do the above operations if the list had mixed data types? Try it!"
      ]
    },
    {
      "cell_type": "code",
      "metadata": {
        "id": "Kz83lgUYjWQH",
        "colab_type": "code",
        "outputId": "728bd745-8d08-420f-9e0b-20fe541f0fbb",
        "colab": {
          "base_uri": "https://localhost:8080/",
          "height": 68
        }
      },
      "source": [
        "# Write your code here\n",
        "x=[1,2,3] \n",
        "y=[4,5] \n",
        "z=[4,2,3,1]\n",
        "\n",
        "x.append(4)\n",
        "print(x)\n",
        "\n",
        "x.extend(y)\n",
        "z.sort()\n",
        "\n",
        "print(x)\n",
        "print(z)\n",
        "\n"
      ],
      "execution_count": 0,
      "outputs": [
        {
          "output_type": "stream",
          "text": [
            "[1, 2, 3, 4]\n",
            "[1, 2, 3, 4, 4, 5]\n",
            "[1, 2, 3, 4]\n"
          ],
          "name": "stdout"
        }
      ]
    },
    {
      "cell_type": "markdown",
      "metadata": {
        "id": "4bDSNkP_jWQM",
        "colab_type": "text"
      },
      "source": [
        "# Deleting Elements\n",
        "There are several ways to delete an element from a list\n",
        "\n",
        "-  If you know the index of an element which you want to delete, you can use pop\n",
        "\n",
        "-  If you don't need to save/remember the removed value, you can use the del operator\n",
        "\n",
        "-  If you know the value you want to remove but not the index, you can use remove"
      ]
    },
    {
      "cell_type": "code",
      "metadata": {
        "id": "DoS7jz0XjWQP",
        "colab_type": "code",
        "outputId": "a7062500-785f-40ca-a87a-2a390cf14ddc",
        "colab": {}
      },
      "source": [
        "x= ['a', 'b','c']\n",
        "y=x.pop(1)\n",
        "print(x)\n"
      ],
      "execution_count": 0,
      "outputs": [
        {
          "output_type": "stream",
          "text": [
            "['a', 'c']\n"
          ],
          "name": "stdout"
        }
      ]
    },
    {
      "cell_type": "code",
      "metadata": {
        "id": "LBb68zhBjWQc",
        "colab_type": "code",
        "outputId": "c7f318e4-dfe0-45ed-eb00-d68c01bc3b5c",
        "colab": {}
      },
      "source": [
        "x= ['a', 'b','c']\n",
        "del x[1]\n",
        "print(x)"
      ],
      "execution_count": 0,
      "outputs": [
        {
          "output_type": "stream",
          "text": [
            "['a', 'c']\n"
          ],
          "name": "stdout"
        }
      ]
    },
    {
      "cell_type": "code",
      "metadata": {
        "id": "ioshu6XDjWQ0",
        "colab_type": "code",
        "outputId": "2259144a-11e9-47c8-b7c0-3f68d5c2e876",
        "colab": {}
      },
      "source": [
        "x= ['a', 'b','c','e', 'c']\n",
        "x.remove('c')\n",
        "print(x) # you see it removed only the first 'c'!"
      ],
      "execution_count": 0,
      "outputs": [
        {
          "output_type": "stream",
          "text": [
            "['a', 'b', 'e', 'c']\n"
          ],
          "name": "stdout"
        }
      ]
    },
    {
      "cell_type": "code",
      "metadata": {
        "id": "ModOuJV3jWRU",
        "colab_type": "code",
        "outputId": "1b494db0-ca1b-4d0d-b05d-dacbb75bd5fa",
        "colab": {}
      },
      "source": [
        "#to remove more than one element you can use del with slice\n",
        "\n",
        "x= ['a', 'b','c', 'd', 'e', 'f', 'g']\n",
        "del x[2:6]\n",
        "print(x)"
      ],
      "execution_count": 0,
      "outputs": [
        {
          "output_type": "stream",
          "text": [
            "['a', 'b', 'g']\n"
          ],
          "name": "stdout"
        }
      ]
    },
    {
      "cell_type": "markdown",
      "metadata": {
        "id": "V68wVoL7jWRd",
        "colab_type": "text"
      },
      "source": [
        "# Work on it now (in the box below)\n",
        "If the list animal = ['cat', 'dog', 'bird', 'tiger', 'squirrel']\n",
        "\n",
        "-  Remove the second element on the list\n",
        "-  Remove 'tiger' from the list\n",
        "-  Remove the elements 'cat', 'dog','bird' at once"
      ]
    },
    {
      "cell_type": "code",
      "metadata": {
        "id": "MCYtW8DmjWRf",
        "colab_type": "code",
        "outputId": "49c821fa-52e0-45cb-b2a4-a2a683872290",
        "colab": {
          "base_uri": "https://localhost:8080/",
          "height": 85
        }
      },
      "source": [
        "# Write your code here\n",
        "\n",
        "animal = ['cat', 'dog', 'bird', 'tiger', 'squirrel']\n",
        "\n",
        "print(animal)\n",
        "\n",
        "\n",
        "del animal[1]\n",
        "print(animal)\n",
        "\n",
        "del animal[2]\n",
        "print(animal)\n",
        "\n",
        "del animal[0:4]\n",
        "print(animal)"
      ],
      "execution_count": 0,
      "outputs": [
        {
          "output_type": "stream",
          "text": [
            "['cat', 'dog', 'bird', 'tiger', 'squirrel']\n",
            "['cat', 'bird', 'tiger', 'squirrel']\n",
            "['cat', 'bird', 'squirrel']\n",
            "[]\n"
          ],
          "name": "stdout"
        }
      ]
    },
    {
      "cell_type": "markdown",
      "metadata": {
        "id": "v_MEoPlwjWRw",
        "colab_type": "text"
      },
      "source": [
        "# List of list\n",
        "\n",
        "From the mobile app store dataset, instead of having a separate variable for each of the five data points 'Facebook', 0.0, 'USD', 2974676, 3.5, we can bundle the data points together into a list, and then store the list in a single variable. That is called list of list.\n",
        "\n",
        "![image.png](attachment:image.png)"
      ]
    },
    {
      "cell_type": "markdown",
      "metadata": {
        "id": "BueUmxm_jWRx",
        "colab_type": "text"
      },
      "source": [
        "-  Retrieve the first list element (row_1) using data_set[0].\n",
        "-  Retrieve the last list element (row_5) using data_set[-1].\n",
        "-  Retrieve the first two list elements (row_1 and row_2) by performing list slicing using data_set[:2].\n",
        "\n",
        "\n",
        "![image.png](attachment:image.png)"
      ]
    },
    {
      "cell_type": "markdown",
      "metadata": {
        "id": "b-OJESFbjWRy",
        "colab_type": "text"
      },
      "source": [
        "# Accessing list inside list element in one step\n",
        "\n",
        "![image.png](attachment:image.png)"
      ]
    },
    {
      "cell_type": "markdown",
      "metadata": {
        "id": "1CRLdxT8jWRz",
        "colab_type": "text"
      },
      "source": [
        "# Work on it now\n",
        "\n",
        "In the next cell we've already stored the five rows as lists in separate variables. \n",
        "\n",
        "-  Group together the five lists in a list of lists. \n",
        "-  Assign the resulting list of lists to a variable named app_data_set.\n",
        "-  Compute the average rating of the apps by retrieving the right data points from the app_data_set list of lists.\n",
        "-  The rating is the last element of each row. You'll need to sum up the ratings and then divide by the number of ratings.\n",
        "-  Assign the result to a variable named avg_rating."
      ]
    },
    {
      "cell_type": "code",
      "metadata": {
        "id": "CWDgfyyvjWR1",
        "colab_type": "code",
        "outputId": "e1917474-4614-4382-c5a3-58e421ee99bb",
        "colab": {
          "base_uri": "https://localhost:8080/",
          "height": 34
        }
      },
      "source": [
        "row_1 = ['Facebook', 0.0, 'USD', 2974676, 3.5]\n",
        "row_2 = ['Instagram', 0.0, 'USD', 2161558, 4.5]\n",
        "row_3 = ['Clash of Clans', 0.0, 'USD', 2130805, 4.5]\n",
        "row_4 = ['Temple Run', 0.0, 'USD', 1724546, 4.5]\n",
        "row_5 = ['Pandora - Music & Radio', 0.0, 'USD', 1126879, 4.0]\n",
        "\n",
        "app_data_set = []\n",
        "\n",
        "#Write your codde here\n",
        "\n",
        "app_data_set = [row_1,row_2,row_3,row_4,row_5]\n",
        "app_data_set\n",
        "\n",
        "\n",
        "avg_rating = ( ( app_data_set[0][-1]+ app_data_set[1][-1]+ app_data_set[2][-1]+ app_data_set[3][-1]+ app_data_set[4][-1]) / 5 ) \n",
        "\n",
        "print(avg_rating)\n",
        "\n",
        "\n",
        "\n",
        "\n",
        "\n"
      ],
      "execution_count": 0,
      "outputs": [
        {
          "output_type": "stream",
          "text": [
            "4.2\n"
          ],
          "name": "stdout"
        }
      ]
    },
    {
      "cell_type": "markdown",
      "metadata": {
        "id": "5yU2c0X8jWSF",
        "colab_type": "text"
      },
      "source": [
        "# Read a CSV and save it in a list\n",
        " Reading the csv line by line and storing each row manually in variables, is a cumbersome job. The CSV is very big in size, so reading and storing this way will take days. So we will use open and reader commands to load and read the csv. Now that we've read the file, we can transform it into a list of lists using the list() command:\n",
        " \n",
        " ![image.png](attachment:image.png)"
      ]
    },
    {
      "cell_type": "markdown",
      "metadata": {
        "id": "2Y0Dq5S3jWSH",
        "colab_type": "text"
      },
      "source": [
        "# Work on it now\n",
        "\n",
        "- Open the AppleStore.csv file and store it as list of lists.\n",
        "\n",
        "- Open the file using the open() command. Save the output to a variable named opened_file.\n",
        "- Read in the opened file using the reader() command (we've already imported reader() for you from the csv module). Save the output to a variable named read_file.\n",
        "- Transform the read-in file to a list of lists using the list() command. Save the list of lists to a variable named apps_data.\n",
        "- Explore apps_data. You could:\n",
        "- Print its length using the len() command\n",
        "- Print the first row (the row describing column names)\n",
        "- Print the second and the third row (try to use list slicing here)"
      ]
    },
    {
      "cell_type": "code",
      "metadata": {
        "colab_type": "code",
        "cellView": "code",
        "outputId": "37524550-91f0-4e10-90c6-23e99671acda",
        "id": "7u_Ctc6ZrrBg",
        "colab": {
          "resources": {
            "http://localhost:8080/nbextensions/google.colab/files.js": {
              "data": "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",
              "ok": true,
              "headers": [
                [
                  "content-type",
                  "application/javascript"
                ]
              ],
              "status": 200,
              "status_text": ""
            }
          },
          "base_uri": "https://localhost:8080/",
          "height": 149
        }
      },
      "source": [
        "#@title Default title text\n",
        "from google.colab import files\n",
        "uploaded = files.upload()\n",
        "opened_file = open( \"AppleStore.csv\" , encoding=\"utf8\")\n",
        "from csv import reader\n",
        "read_file = reader(opened_file)\n",
        "apps_data = list(read_file) \n",
        "print(apps_data[:5])\n",
        "print(len(apps_data))\n",
        "print(apps_data[2:4])\n"
      ],
      "execution_count": 21,
      "outputs": [
        {
          "output_type": "display_data",
          "data": {
            "text/html": [
              "\n",
              "     <input type=\"file\" id=\"files-5238b446-40db-4436-bff1-b0547f3a15f8\" name=\"files[]\" multiple disabled />\n",
              "     <output id=\"result-5238b446-40db-4436-bff1-b0547f3a15f8\">\n",
              "      Upload widget is only available when the cell has been executed in the\n",
              "      current browser session. Please rerun this cell to enable.\n",
              "      </output>\n",
              "      <script src=\"/nbextensions/google.colab/files.js\"></script> "
            ],
            "text/plain": [
              "<IPython.core.display.HTML object>"
            ]
          },
          "metadata": {
            "tags": []
          }
        },
        {
          "output_type": "stream",
          "text": [
            "Saving AppleStore.csv to AppleStore (10).csv\n",
            "[['', 'id', 'track_name', 'size_bytes', 'currency', 'price', 'rating_count_tot', 'rating_count_ver', 'user_rating', 'user_rating_ver', 'ver', 'cont_rating', 'prime_genre', 'sup_devices.num', 'ipadSc_urls.num', 'lang.num', 'vpp_lic'], ['1', '281656475', 'PAC-MAN Premium', '100788224', 'USD', '3.99', '21292', '26', '4', '4.5', '6.3.5', '4+', 'Games', '38', '5', '10', '1'], ['2', '281796108', 'Evernote - stay organized', '158578688', 'USD', '0', '161065', '26', '4', '3.5', '8.2.2', '4+', 'Productivity', '37', '5', '23', '1'], ['3', '281940292', 'WeatherBug - Local Weather, Radar, Maps, Alerts', '100524032', 'USD', '0', '188583', '2822', '3.5', '4.5', '5.0.0', '4+', 'Weather', '37', '5', '3', '1'], ['4', '282614216', 'eBay: Best App to Buy, Sell, Save! Online Shopping', '128512000', 'USD', '0', '262241', '649', '4', '4.5', '5.10.0', '12+', 'Shopping', '37', '5', '9', '1']]\n",
            "7198\n",
            "[['2', '281796108', 'Evernote - stay organized', '158578688', 'USD', '0', '161065', '26', '4', '3.5', '8.2.2', '4+', 'Productivity', '37', '5', '23', '1'], ['3', '281940292', 'WeatherBug - Local Weather, Radar, Maps, Alerts', '100524032', 'USD', '0', '188583', '2822', '3.5', '4.5', '5.0.0', '4+', 'Weather', '37', '5', '3', '1']]\n"
          ],
          "name": "stdout"
        }
      ]
    }
  ]
}